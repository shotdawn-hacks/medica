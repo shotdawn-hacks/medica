{
  "nbformat": 4,
  "nbformat_minor": 0,
  "metadata": {
    "colab": {
      "provenance": []
    },
    "kernelspec": {
      "name": "python3",
      "display_name": "Python 3"
    },
    "language_info": {
      "name": "python"
    }
  },
  "cells": [
    {
      "cell_type": "code",
      "execution_count": 1,
      "metadata": {
        "id": "BakwiZxD1a0w"
      },
      "outputs": [],
      "source": [
        "import pandas as pd\n",
        "import json\n",
        "\n",
        "class DataProcessor:\n",
        "    def __init__(self, data_loaded, data_standart):\n",
        "        self.data_loaded = data_loaded\n",
        "        self.data_standart = data_standart\n",
        "        self.result = []\n",
        "    \n",
        "    def process_data(self):\n",
        "        for index, row in self.data_loaded.iterrows():\n",
        "            code = row['Код МКБ-10']\n",
        "            appointment = row['Назначения']\n",
        "            \n",
        "            standart_row = self.data_standart[self.data_standart['Код болезни'].str.strip() == code.strip()]\n",
        "            \n",
        "            if standart_row.empty:\n",
        "                encoded_appointment = [0]\n",
        "            else:\n",
        "                required_appointments = standart_row['Обязательные назначения'].iloc[0]\n",
        "                optional_appointments = standart_row['Необязательные назначения'].iloc[0]\n",
        "            \n",
        "                encoded_appointment = []\n",
        "            \n",
        "                for app in appointment:\n",
        "                    if app in required_appointments:\n",
        "                        encoded_appointment.append(1)\n",
        "                    elif app in optional_appointments:\n",
        "                        encoded_appointment.append(2)\n",
        "                    else:\n",
        "                        encoded_appointment.append(3)\n",
        "            \n",
        "            result_item = {\n",
        "                'Код МКБ-10': code,\n",
        "                'Назначения': appointment,\n",
        "                'Закодированные назначения': encoded_appointment\n",
        "            }\n",
        "            \n",
        "            self.result.append(result_item)\n",
        "    \n",
        "    def get_result(self):\n",
        "        return json.dumps(self.result)\n"
      ]
    },
    {
      "cell_type": "code",
      "source": [],
      "metadata": {
        "id": "BMJumiae2Hcb"
      },
      "execution_count": null,
      "outputs": []
    }
  ]
}